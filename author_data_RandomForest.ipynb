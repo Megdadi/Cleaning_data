{
  "nbformat": 4,
  "nbformat_minor": 0,
  "metadata": {
    "colab": {
      "provenance": [],
      "authorship_tag": "ABX9TyNXSLCCTGOD7m1wQwwfqOkb",
      "include_colab_link": true
    },
    "kernelspec": {
      "name": "python3",
      "display_name": "Python 3"
    },
    "language_info": {
      "name": "python"
    },
    "gpuClass": "standard"
  },
  "cells": [
    {
      "cell_type": "markdown",
      "metadata": {
        "id": "view-in-github",
        "colab_type": "text"
      },
      "source": [
        "<a href=\"https://colab.research.google.com/github/Megdadi/Cleaning_data/blob/main/author_data_RandomForest.ipynb\" target=\"_parent\"><img src=\"https://colab.research.google.com/assets/colab-badge.svg\" alt=\"Open In Colab\"/></a>"
      ]
    },
    {
      "cell_type": "code",
      "execution_count": 1,
      "metadata": {
        "colab": {
          "base_uri": "https://localhost:8080/"
        },
        "id": "WoJua5Z9Hqbf",
        "outputId": "c566fd6d-1285-4e40-f9fe-c07a39fab184"
      },
      "outputs": [
        {
          "output_type": "stream",
          "name": "stdout",
          "text": [
            "Mounted at /content/drive\n"
          ]
        }
      ],
      "source": [
        "from google.colab import drive\n",
        "drive.mount('/content/drive')"
      ]
    },
    {
      "cell_type": "code",
      "source": [
        "# Load libraries\n",
        "import pandas as pd\n",
        "import numpy as np\n",
        "import os\n",
        "import matplotlib.pyplot as plt\n",
        "import seaborn as sns\n",
        "\n",
        "import nltk\n",
        "from nltk.corpus import stopwords \n",
        "from nltk.tokenize import word_tokenize\n",
        "from gensim.utils import simple_preprocess\n",
        "from sklearn.feature_extraction.text import CountVectorizer\n",
        "from scipy.spatial import transform\n",
        "from sklearn.feature_extraction.text import TfidfTransformer\n",
        "\n",
        "from keras.preprocessing import sequence\n",
        "from keras.models import Sequential\n",
        "from keras.layers import Dense, Dropout, Embedding, SimpleRNN,BatchNormalization\n",
        "from keras.datasets import imdb\n",
        "from keras.callbacks import TensorBoard\n",
        "\n",
        "\n"
      ],
      "metadata": {
        "id": "ke_HSbWkH7u6"
      },
      "execution_count": 2,
      "outputs": []
    },
    {
      "cell_type": "markdown",
      "source": [
        "# **Preprocessing**"
      ],
      "metadata": {
        "id": "lg1Bfj1YIDC3"
      }
    },
    {
      "cell_type": "markdown",
      "source": [
        "# **first read the files into a python dataframe for further processing and visualization.**"
      ],
      "metadata": {
        "id": "5FF33oG5IPW9"
      }
    },
    {
      "cell_type": "code",
      "source": [
        "data=pd.read_csv('/content/drive/MyDrive/RNN/author_data/ML-Test/author_data.csv')\n",
        "print(data.shape,'\\n')\n",
        "####\n",
        "print(data.head(),'\\n')\n",
        "####\n",
        "print(data['author'].value_counts())"
      ],
      "metadata": {
        "colab": {
          "base_uri": "https://localhost:8080/"
        },
        "id": "Wv3KuFkPIFbN",
        "outputId": "75e7a016-29d3-4ba0-86ed-da831974d24b"
      },
      "execution_count": 325,
      "outputs": [
        {
          "output_type": "stream",
          "name": "stdout",
          "text": [
            "(19579, 3) \n",
            "\n",
            "        id                                               text author\n",
            "0  id26305  This process, however, afforded me no means of...    EAP\n",
            "1  id17569  It never once occurred to me that the fumbling...    HPL\n",
            "2  id11008  In his left hand was a gold snuff box, from wh...    EAP\n",
            "3  id27763  How lovely is spring As we looked from Windsor...    MWS\n",
            "4  id12958  Finding nothing else, not even gold, the Super...    HPL \n",
            "\n",
            "EAP    7900\n",
            "MWS    6044\n",
            "HPL    5635\n",
            "Name: author, dtype: int64\n"
          ]
        }
      ]
    },
    {
      "cell_type": "code",
      "source": [
        "#check missing values\n",
        "data.info()"
      ],
      "metadata": {
        "colab": {
          "base_uri": "https://localhost:8080/"
        },
        "id": "e6_tQC5ugLN4",
        "outputId": "cffd220b-6cab-4ae4-91a8-e818c854121b"
      },
      "execution_count": 326,
      "outputs": [
        {
          "output_type": "stream",
          "name": "stdout",
          "text": [
            "<class 'pandas.core.frame.DataFrame'>\n",
            "RangeIndex: 19579 entries, 0 to 19578\n",
            "Data columns (total 3 columns):\n",
            " #   Column  Non-Null Count  Dtype \n",
            "---  ------  --------------  ----- \n",
            " 0   id      19579 non-null  object\n",
            " 1   text    19579 non-null  object\n",
            " 2   author  19579 non-null  object\n",
            "dtypes: object(3)\n",
            "memory usage: 459.0+ KB\n"
          ]
        }
      ]
    },
    {
      "cell_type": "code",
      "source": [
        " # Find NAN\n",
        "missing= data.isnull().sum().sort_values(ascending= False)\n",
        "print(missing)\n",
        "\n",
        "nan_df = data[data.isnull().any(axis=1)]\n",
        "len(nan_df)"
      ],
      "metadata": {
        "colab": {
          "base_uri": "https://localhost:8080/"
        },
        "id": "1evPq7luriHZ",
        "outputId": "9a9b5d94-bc61-42e2-8d46-1d500a550c1d"
      },
      "execution_count": 327,
      "outputs": [
        {
          "output_type": "stream",
          "name": "stdout",
          "text": [
            "id        0\n",
            "text      0\n",
            "author    0\n",
            "dtype: int64\n"
          ]
        },
        {
          "output_type": "execute_result",
          "data": {
            "text/plain": [
              "0"
            ]
          },
          "metadata": {},
          "execution_count": 327
        }
      ]
    },
    {
      "cell_type": "code",
      "source": [
        "sns.countplot('author', data = data, palette='dark')"
      ],
      "metadata": {
        "colab": {
          "base_uri": "https://localhost:8080/",
          "height": 351
        },
        "id": "MqmWoZOeO1nI",
        "outputId": "7f3daad6-a145-4ae6-f818-6ec82466f9a2"
      },
      "execution_count": 328,
      "outputs": [
        {
          "output_type": "stream",
          "name": "stderr",
          "text": [
            "/usr/local/lib/python3.8/dist-packages/seaborn/_decorators.py:36: FutureWarning: Pass the following variable as a keyword arg: x. From version 0.12, the only valid positional argument will be `data`, and passing other arguments without an explicit keyword will result in an error or misinterpretation.\n",
            "  warnings.warn(\n"
          ]
        },
        {
          "output_type": "execute_result",
          "data": {
            "text/plain": [
              "<matplotlib.axes._subplots.AxesSubplot at 0x7eff0c72dc40>"
            ]
          },
          "metadata": {},
          "execution_count": 328
        },
        {
          "output_type": "display_data",
          "data": {
            "text/plain": [
              "<Figure size 432x288 with 1 Axes>"
            ],
            "image/png": "[encoded data removed]"
          },
          "metadata": {
            "needs_background": "light"
          }
        }
      ]
    },
    {
      "cell_type": "code",
      "source": [
        "#labels = {'EAP': 0, 'MWS': 1, 'HPL': 2}\n"
      ],
      "metadata": {
        "id": "02zPMdJMTTd-"
      },
      "execution_count": 329,
      "outputs": []
    },
    {
      "cell_type": "markdown",
      "source": [
        "# **Splitting data to train-test ( 25% for testing)**"
      ],
      "metadata": {
        "id": "gK-vDFDVfaiL"
      }
    },
    {
      "cell_type": "code",
      "source": [
        "data['word_count'] = data['text'].str.count(' ')\n",
        "data.head()"
      ],
      "metadata": {
        "colab": {
          "base_uri": "https://localhost:8080/",
          "height": 206
        },
        "id": "KZIaz0vpbNyv",
        "outputId": "e4b7f3b3-8c55-4995-c4be-4c772f67f030"
      },
      "execution_count": 330,
      "outputs": [
        {
          "output_type": "execute_result",
          "data": {
            "text/plain": [
              "        id                                               text author  \\\n",
              "0  id26305  This process, however, afforded me no means of...    EAP   \n",
              "1  id17569  It never once occurred to me that the fumbling...    HPL   \n",
              "2  id11008  In his left hand was a gold snuff box, from wh...    EAP   \n",
              "3  id27763  How lovely is spring As we looked from Windsor...    MWS   \n",
              "4  id12958  Finding nothing else, not even gold, the Super...    HPL   \n",
              "\n",
              "   word_count  \n",
              "0          40  \n",
              "1          13  \n",
              "2          35  \n",
              "3          33  \n",
              "4          26  "
            ],
            "text/html": [
              "\n",
              "  <div id=\"df-583127b0-90b4-4a8d-893e-206608fc1128\">\n",
              "    <div class=\"colab-df-container\">\n",
              "      <div>\n",
              "<style scoped>\n",
              "    .dataframe tbody tr th:only-of-type {\n",
              "        vertical-align: middle;\n",
              "    }\n",
              "\n",
              "    .dataframe tbody tr th {\n",
              "        vertical-align: top;\n",
              "    }\n",
              "\n",
              "    .dataframe thead th {\n",
              "        text-align: right;\n",
              "    }\n",
              "</style>\n",
              "<table border=\"1\" class=\"dataframe\">\n",
              "  <thead>\n",
              "    <tr style=\"text-align: right;\">\n",
              "      <th></th>\n",
              "      <th>id</th>\n",
              "      <th>text</th>\n",
              "      <th>author</th>\n",
              "      <th>word_count</th>\n",
              "    </tr>\n",
              "  </thead>\n",
              "  <tbody>\n",
              "    <tr>\n",
              "      <th>0</th>\n",
              "      <td>id26305</td>\n",
              "      <td>This process, however, afforded me no means of...</td>\n",
              "      <td>EAP</td>\n",
              "      <td>40</td>\n",
              "    </tr>\n",
              "    <tr>\n",
              "      <th>1</th>\n",
              "      <td>id17569</td>\n",
              "      <td>It never once occurred to me that the fumbling...</td>\n",
              "      <td>HPL</td>\n",
              "      <td>13</td>\n",
              "    </tr>\n",
              "    <tr>\n",
              "      <th>2</th>\n",
              "      <td>id11008</td>\n",
              "      <td>In his left hand was a gold snuff box, from wh...</td>\n",
              "      <td>EAP</td>\n",
              "      <td>35</td>\n",
              "    </tr>\n",
              "    <tr>\n",
              "      <th>3</th>\n",
              "      <td>id27763</td>\n",
              "      <td>How lovely is spring As we looked from Windsor...</td>\n",
              "      <td>MWS</td>\n",
              "      <td>33</td>\n",
              "    </tr>\n",
              "    <tr>\n",
              "      <th>4</th>\n",
              "      <td>id12958</td>\n",
              "      <td>Finding nothing else, not even gold, the Super...</td>\n",
              "      <td>HPL</td>\n",
              "      <td>26</td>\n",
              "    </tr>\n",
              "  </tbody>\n",
              "</table>\n",
              "</div>\n",
              "      <button class=\"colab-df-convert\" onclick=\"convertToInteractive('df-583127b0-90b4-4a8d-893e-206608fc1128')\"\n",
              "              title=\"Convert this dataframe to an interactive table.\"\n",
              "              style=\"display:none;\">\n",
              "        \n",
              "  <svg xmlns=\"http://www.w3.org/2000/svg\" height=\"24px\"viewBox=\"0 0 24 24\"\n",
              "       width=\"24px\">\n",
              "    <path d=\"M0 0h24v24H0V0z\" fill=\"none\"/>\n",
              "    <path d=\"M18.56 5.44l.94 2.06.94-2.06 2.06-.94-2.06-.94-.94-2.06-.94 2.06-2.06.94zm-11 1L8.5 8.5l.94-2.06 2.06-.94-2.06-.94L8.5 2.5l-.94 2.06-2.06.94zm10 10l.94 2.06.94-2.06 2.06-.94-2.06-.94-.94-2.06-.94 2.06-2.06.94z\"/><path d=\"M17.41 7.96l-1.37-1.37c-.4-.4-.92-.59-1.43-.59-.52 0-1.04.2-1.43.59L10.3 9.45l-7.72 7.72c-.78.78-.78 2.05 0 2.83L4 21.41c.39.39.9.59 1.41.59.51 0 1.02-.2 1.41-.59l7.78-7.78 2.81-2.81c.8-.78.8-2.07 0-2.86zM5.41 20L4 18.59l7.72-7.72 1.47 1.35L5.41 20z\"/>\n",
              "  </svg>\n",
              "      </button>\n",
              "      \n",
              "  <style>\n",
              "    .colab-df-container {\n",
              "      display:flex;\n",
              "      flex-wrap:wrap;\n",
              "      gap: 12px;\n",
              "    }\n",
              "\n",
              "    .colab-df-convert {\n",
              "      background-color: #E8F0FE;\n",
              "      border: none;\n",
              "      border-radius: 50%;\n",
              "      cursor: pointer;\n",
              "      display: none;\n",
              "      fill: #1967D2;\n",
              "      height: 32px;\n",
              "      padding: 0 0 0 0;\n",
              "      width: 32px;\n",
              "    }\n",
              "\n",
              "    .colab-df-convert:hover {\n",
              "      background-color: #E2EBFA;\n",
              "      box-shadow: 0px 1px 2px rgba(60, 64, 67, 0.3), 0px 1px 3px 1px rgba(60, 64, 67, 0.15);\n",
              "      fill: #174EA6;\n",
              "    }\n",
              "\n",
              "    [theme=dark] .colab-df-convert {\n",
              "      background-color: #3B4455;\n",
              "      fill: #D2E3FC;\n",
              "    }\n",
              "\n",
              "    [theme=dark] .colab-df-convert:hover {\n",
              "      background-color: #434B5C;\n",
              "      box-shadow: 0px 1px 3px 1px rgba(0, 0, 0, 0.15);\n",
              "      filter: drop-shadow(0px 1px 2px rgba(0, 0, 0, 0.3));\n",
              "      fill: #FFFFFF;\n",
              "    }\n",
              "  </style>\n",
              "\n",
              "      <script>\n",
              "        const buttonEl =\n",
              "          document.querySelector('#df-583127b0-90b4-4a8d-893e-206608fc1128 button.colab-df-convert');\n",
              "        buttonEl.style.display =\n",
              "          google.colab.kernel.accessAllowed ? 'block' : 'none';\n",
              "\n",
              "        async function convertToInteractive(key) {\n",
              "          const element = document.querySelector('#df-583127b0-90b4-4a8d-893e-206608fc1128');\n",
              "          const dataTable =\n",
              "            await google.colab.kernel.invokeFunction('convertToInteractive',\n",
              "                                                     [key], {});\n",
              "          if (!dataTable) return;\n",
              "\n",
              "          const docLinkHtml = 'Like what you see? Visit the ' +\n",
              "            '<a target=\"_blank\" href=https://colab.research.google.com/notebooks/data_table.ipynb>data table notebook</a>'\n",
              "            + ' to learn more about interactive tables.';\n",
              "          element.innerHTML = '';\n",
              "          dataTable['output_type'] = 'display_data';\n",
              "          await google.colab.output.renderOutput(dataTable, element);\n",
              "          const docLink = document.createElement('div');\n",
              "          docLink.innerHTML = docLinkHtml;\n",
              "          element.appendChild(docLink);\n",
              "        }\n",
              "      </script>\n",
              "    </div>\n",
              "  </div>\n",
              "  "
            ]
          },
          "metadata": {},
          "execution_count": 330
        }
      ]
    },
    {
      "cell_type": "code",
      "source": [
        "data[data[\"author\"] == \"EAP\"][\"word_count\"].describe()\n"
      ],
      "metadata": {
        "colab": {
          "base_uri": "https://localhost:8080/"
        },
        "id": "YQNSi8jhj3z4",
        "outputId": "4a2ac85e-d0b9-4e4e-e96f-6a112f6c795d"
      },
      "execution_count": 331,
      "outputs": [
        {
          "output_type": "execute_result",
          "data": {
            "text/plain": [
              "count    7900.000000\n",
              "mean       24.442405\n",
              "std        18.567706\n",
              "min         1.000000\n",
              "25%        11.000000\n",
              "50%        20.000000\n",
              "75%        32.000000\n",
              "max       266.000000\n",
              "Name: word_count, dtype: float64"
            ]
          },
          "metadata": {},
          "execution_count": 331
        }
      ]
    },
    {
      "cell_type": "code",
      "source": [
        "data[data[\"author\"] == \"MWS\"][\"word_count\"].describe()\n"
      ],
      "metadata": {
        "colab": {
          "base_uri": "https://localhost:8080/"
        },
        "id": "Cf4KJW8vkM6e",
        "outputId": "89e744a3-99c4-44de-8f64-ade369a71446"
      },
      "execution_count": 332,
      "outputs": [
        {
          "output_type": "execute_result",
          "data": {
            "text/plain": [
              "count    6044.000000\n",
              "mean       26.417273\n",
              "std        23.134440\n",
              "min         1.000000\n",
              "25%        14.000000\n",
              "50%        22.000000\n",
              "75%        33.000000\n",
              "max       860.000000\n",
              "Name: word_count, dtype: float64"
            ]
          },
          "metadata": {},
          "execution_count": 332
        }
      ]
    },
    {
      "cell_type": "code",
      "source": [
        "data[data[\"author\"] == \"HPL\"][\"word_count\"].describe()\n"
      ],
      "metadata": {
        "colab": {
          "base_uri": "https://localhost:8080/"
        },
        "id": "vo-V2Utjj_hi",
        "outputId": "b95a6721-fd8a-4cbd-8118-7abd0e6019e7"
      },
      "execution_count": 333,
      "outputs": [
        {
          "output_type": "execute_result",
          "data": {
            "text/plain": [
              "count    5635.000000\n",
              "mean       26.799645\n",
              "std        14.123252\n",
              "min         3.000000\n",
              "25%        17.000000\n",
              "50%        25.000000\n",
              "75%        34.000000\n",
              "max       146.000000\n",
              "Name: word_count, dtype: float64"
            ]
          },
          "metadata": {},
          "execution_count": 333
        }
      ]
    },
    {
      "cell_type": "code",
      "source": [
        "plt.figure(figsize=(8,8))\n",
        "sns.boxplot(x=\"author\", y=\"word_count\", data=data, palette='bright');"
      ],
      "metadata": {
        "colab": {
          "base_uri": "https://localhost:8080/",
          "height": 497
        },
        "id": "Bpnql2clil5Z",
        "outputId": "af47ab0b-8003-4b37-af14-eeb02defa86a"
      },
      "execution_count": 334,
      "outputs": [
        {
          "output_type": "display_data",
          "data": {
            "text/plain": [
              "<Figure size 576x576 with 1 Axes>"
            ],
            "image/png": "[encoded data removed]"
          },
          "metadata": {
            "needs_background": "light"
          }
        }
      ]
    },
    {
      "cell_type": "code",
      "source": [
        "f,ax=plt.subplots(1,3,figsize=(10,6));\n",
        "sns.distplot(data[data['author']=='EAP'].word_count,ax=ax[0]);\n",
        "ax[0].set_title('EAP');\n",
        "sns.distplot(data[data['author']=='HPL'].word_count,ax=ax[1], color='r')\n",
        "ax[1].set_title('HPL');\n",
        "sns.distplot(data[data['author']=='MWS'].word_count,ax=ax[2], color='g')\n",
        "ax[2].set_title('MWS');\n",
        "plt.show();"
      ],
      "metadata": {
        "colab": {
          "base_uri": "https://localhost:8080/",
          "height": 529
        },
        "id": "nhxWQmgZk_NY",
        "outputId": "3a5dbc85-a562-4316-feb6-eb3d726ba6a7"
      },
      "execution_count": 335,
      "outputs": [
        {
          "output_type": "stream",
          "name": "stderr",
          "text": [
            "/usr/local/lib/python3.8/dist-packages/seaborn/distributions.py:2619: FutureWarning: `distplot` is a deprecated function and will be removed in a future version. Please adapt your code to use either `displot` (a figure-level function with similar flexibility) or `histplot` (an axes-level function for histograms).\n",
            "  warnings.warn(msg, FutureWarning)\n",
            "/usr/local/lib/python3.8/dist-packages/seaborn/distributions.py:2619: FutureWarning: `distplot` is a deprecated function and will be removed in a future version. Please adapt your code to use either `displot` (a figure-level function with similar flexibility) or `histplot` (an axes-level function for histograms).\n",
            "  warnings.warn(msg, FutureWarning)\n",
            "/usr/local/lib/python3.8/dist-packages/seaborn/distributions.py:2619: FutureWarning: `distplot` is a deprecated function and will be removed in a future version. Please adapt your code to use either `displot` (a figure-level function with similar flexibility) or `histplot` (an axes-level function for histograms).\n",
            "  warnings.warn(msg, FutureWarning)\n"
          ]
        },
        {
          "output_type": "display_data",
          "data": {
            "text/plain": [
              "<Figure size 720x432 with 3 Axes>"
            ],
            "image/png": "[encoded data removed]"
          },
          "metadata": {
            "needs_background": "light"
          }
        }
      ]
    },
    {
      "cell_type": "markdown",
      "source": [
        "# **Preprocessing and feature extraction**"
      ],
      "metadata": {
        "id": "G5dI81FAuelH"
      }
    },
    {
      "cell_type": "code",
      "source": [
        "# Define functions for stopwords, bigrams, trigrams and lemmatization\n",
        "def remove_stopwords(texts):\n",
        "    return [[word.lower() for word in simple_preprocess(str(doc)) if word not in stop_words] for doc in texts]\n",
        "data_train = remove_stopwords(data['text'])\n"
      ],
      "metadata": {
        "id": "lBgDb6CIEs2B"
      },
      "execution_count": 336,
      "outputs": []
    },
    {
      "cell_type": "code",
      "source": [
        "data['text'].iloc[0]"
      ],
      "metadata": {
        "colab": {
          "base_uri": "https://localhost:8080/",
          "height": 53
        },
        "id": "Wb1lC1vTLK0x",
        "outputId": "bae9bcfc-9b59-46c9-81e8-3354c0864a77"
      },
      "execution_count": 337,
      "outputs": [
        {
          "output_type": "execute_result",
          "data": {
            "text/plain": [
              "'This process, however, afforded me no means of ascertaining the dimensions of my dungeon; as I might make its circuit, and return to the point whence I set out, without being aware of the fact; so perfectly uniform seemed the wall.'"
            ],
            "application/vnd.google.colaboratory.intrinsic+json": {
              "type": "string"
            }
          },
          "metadata": {},
          "execution_count": 337
        }
      ]
    },
    {
      "cell_type": "code",
      "source": [
        "data_train[0]"
      ],
      "metadata": {
        "colab": {
          "base_uri": "https://localhost:8080/"
        },
        "id": "9YEdLTGxJb7s",
        "outputId": "6335c7c8-75aa-44c2-894b-09978db7a3c9"
      },
      "execution_count": 338,
      "outputs": [
        {
          "output_type": "execute_result",
          "data": {
            "text/plain": [
              "['process',\n",
              " 'however',\n",
              " 'afforded',\n",
              " 'means',\n",
              " 'ascertaining',\n",
              " 'dimensions',\n",
              " 'dungeon',\n",
              " 'might',\n",
              " 'make',\n",
              " 'circuit',\n",
              " 'return',\n",
              " 'point',\n",
              " 'whence',\n",
              " 'set',\n",
              " 'without',\n",
              " 'aware',\n",
              " 'fact',\n",
              " 'perfectly',\n",
              " 'uniform',\n",
              " 'seemed',\n",
              " 'wall']"
            ]
          },
          "metadata": {},
          "execution_count": 338
        }
      ]
    },
    {
      "cell_type": "markdown",
      "source": [
        "# **We use TfidTransformer to covert the text into the feature vectors, we restrict the maximum features to 10000**"
      ],
      "metadata": {
        "id": "CbR-RnnhMxH5"
      }
    },
    {
      "cell_type": "code",
      "source": [
        "train_text = [' '.join(sent) for sent in data_train]\n"
      ],
      "metadata": {
        "id": "2r3RORJ_R0Fx"
      },
      "execution_count": 339,
      "outputs": []
    },
    {
      "cell_type": "code",
      "source": [
        "train_text[0]"
      ],
      "metadata": {
        "colab": {
          "base_uri": "https://localhost:8080/",
          "height": 53
        },
        "id": "CcKDQg-DSGsd",
        "outputId": "39a10019-a6bc-44c6-f9d0-950ee47c51d1"
      },
      "execution_count": 340,
      "outputs": [
        {
          "output_type": "execute_result",
          "data": {
            "text/plain": [
              "'process however afforded means ascertaining dimensions dungeon might make circuit return point whence set without aware fact perfectly uniform seemed wall'"
            ],
            "application/vnd.google.colaboratory.intrinsic+json": {
              "type": "string"
            }
          },
          "metadata": {},
          "execution_count": 340
        }
      ]
    },
    {
      "cell_type": "code",
      "source": [
        "# Initialize the \"CountVectorizer\" object, which is scikit-learn's\n",
        "# bag of words tool.  \n",
        "vectorizer = CountVectorizer(analyzer = \"word\",                             \n",
        "                             max_features = 10000)\n",
        "\n",
        "feature_vec = vectorizer.fit_transform(train_text)"
      ],
      "metadata": {
        "id": "WfhdINjMNrV9"
      },
      "execution_count": 341,
      "outputs": []
    },
    {
      "cell_type": "code",
      "source": [
        "trans = TfidfTransformer(use_idf=True).fit(feature_vec)\n",
        "X_train = trans.transform(feature_vec)\n",
        "X_train.shape"
      ],
      "metadata": {
        "colab": {
          "base_uri": "https://localhost:8080/"
        },
        "id": "mcZrFRE5TETQ",
        "outputId": "df732bf8-3e74-4315-ce39-2da5b46cc4fd"
      },
      "execution_count": 342,
      "outputs": [
        {
          "output_type": "execute_result",
          "data": {
            "text/plain": [
              "(19579, 10000)"
            ]
          },
          "metadata": {},
          "execution_count": 342
        }
      ]
    },
    {
      "cell_type": "code",
      "source": [
        "# create train/test set\n",
        "train_data = X_train\n",
        "train_labels = data[\"author\"]\n",
        "from sklearn.model_selection import train_test_split\n",
        "X_train,X_test,y_train,y_test=train_test_split(train_data,train_labels,test_size=0.25,random_state=0)"
      ],
      "metadata": {
        "id": "q2KtTvRXXzqT"
      },
      "execution_count": 344,
      "outputs": []
    },
    {
      "cell_type": "code",
      "source": [
        "from sklearn.ensemble import RandomForestClassifier\n",
        "clf1 = RandomForestClassifier().fit(X_train, y_train)\n",
        "predicted = clf1.predict(X_test)\n",
        "predicted_propa = clf1.predict_proba(X_test)\n",
        "\n",
        "print(accuracy_score(y_test,predicted))\n",
        "print(log_loss(y_test, predicted_propa))"
      ],
      "metadata": {
        "colab": {
          "base_uri": "https://localhost:8080/"
        },
        "id": "SHcuPDlxeGf6",
        "outputId": "8b1de368-2296-4ed2-fe06-69e38f58ffa1"
      },
      "execution_count": 366,
      "outputs": [
        {
          "output_type": "stream",
          "name": "stdout",
          "text": [
            "0.6976506639427987\n",
            "0.7210263962248483\n"
          ]
        }
      ]
    },
    {
      "cell_type": "markdown",
      "source": [
        "# **We can use athor models which is better**"
      ],
      "metadata": {
        "id": "mqj-OWo58XU6"
      }
    },
    {
      "cell_type": "code",
      "source": [
        "from sklearn.linear_model import SGDClassifier\n",
        "clf2 = SGDClassifier().fit(X_train, y_train)\n",
        "\n",
        "predicted = clf2.predict(X_test)\n",
        "\n",
        "print(accuracy_score(y_test,predicted))\n"
      ],
      "metadata": {
        "colab": {
          "base_uri": "https://localhost:8080/"
        },
        "id": "PcjsyYE6BiX4",
        "outputId": "e323a632-c2b7-484f-c480-bd46fa3de228"
      },
      "execution_count": 367,
      "outputs": [
        {
          "output_type": "stream",
          "name": "stdout",
          "text": [
            "0.8096016343207354\n"
          ]
        }
      ]
    },
    {
      "cell_type": "code",
      "source": [
        "from sklearn.ensemble import GradientBoostingClassifier\n",
        "clf3 = GradientBoostingClassifier(n_estimators=150, learning_rate=0.6,max_depth=3, random_state=0).fit(X_train, y_train)\n",
        "predicted = clf3.predict(X_test)\n",
        "predicted_propa = clf3.predict_proba(X_test)\n",
        "\n",
        "print(accuracy_score(y_test,predicted))\n",
        "print(log_loss(y_test, predicted_propa))"
      ],
      "metadata": {
        "colab": {
          "base_uri": "https://localhost:8080/"
        },
        "id": "tamOfcxDDHym",
        "outputId": "73abddcc-4c76-4800-e946-8a9e37abd350"
      },
      "execution_count": 368,
      "outputs": [
        {
          "output_type": "stream",
          "name": "stdout",
          "text": [
            "0.7139938712972421\n",
            "0.6902748602347587\n"
          ]
        }
      ]
    },
    {
      "cell_type": "code",
      "source": [
        "from sklearn.naive_bayes import MultinomialNB\n",
        "from sklearn.metrics import accuracy_score, log_loss\n",
        "clf4 = MultinomialNB().fit(X_train, y_train)\n",
        "\n",
        "predicted = clf4.predict(X_test)\n",
        "predicted_propa = clf4.predict_proba(X_test)\n",
        "\n",
        "print(accuracy_score(y_test,predicted))\n",
        "print(log_loss(y_test, predicted_propa))\n"
      ],
      "metadata": {
        "colab": {
          "base_uri": "https://localhost:8080/"
        },
        "id": "2VS10V4UX6h_",
        "outputId": "c36cddd5-7e72-411c-a53f-4fa26c017909"
      },
      "execution_count": 369,
      "outputs": [
        {
          "output_type": "stream",
          "name": "stdout",
          "text": [
            "0.819611848825332\n",
            "0.5919632430680485\n"
          ]
        }
      ]
    },
    {
      "cell_type": "code",
      "source": [
        "### Function to create confusion matrix ###\n",
        "import itertools\n",
        "from sklearn.metrics import confusion_matrix\n",
        "\n",
        "### From http://scikit-learn.org/stable/auto_examples/model_selection/plot_confusion_matrix.html#sphx-glr-auto-examples-model-selection-plot-confusion-matrix-py #\n",
        "def plot_confusion_matrix(cm, classes,\n",
        "                          normalize=False,\n",
        "                          title='Confusion matrix',\n",
        "                          cmap=plt.cm.Blues):\n",
        "    \"\"\"\n",
        "    This function prints and plots the confusion matrix.\n",
        "    Normalization can be applied by setting `normalize=True`.\n",
        "    \"\"\"\n",
        "    if normalize:\n",
        "        cm = cm.astype('float') / cm.sum(axis=1)[:, np.newaxis]\n",
        "        #print(\"Normalized confusion matrix\")\n",
        "    #else:\n",
        "    #    print('Confusion matrix, without normalization')\n",
        "\n",
        "    #print(cm)\n",
        "\n",
        "    plt.imshow(cm, interpolation='nearest', cmap=cmap)\n",
        "    plt.title(title)\n",
        "    plt.colorbar()\n",
        "    tick_marks = np.arange(len(classes))\n",
        "    plt.xticks(tick_marks, classes, rotation=45)\n",
        "    plt.yticks(tick_marks, classes)\n",
        "\n",
        "    fmt = '.2f' if normalize else 'd'\n",
        "    thresh = cm.max() / 2.\n",
        "    for i, j in itertools.product(range(cm.shape[0]), range(cm.shape[1])):\n",
        "        plt.text(j, i, format(cm[i, j], fmt),\n",
        "                 horizontalalignment=\"center\",\n",
        "                 color=\"white\" if cm[i, j] > thresh else \"black\")\n",
        "\n",
        "    plt.tight_layout()\n",
        "    plt.ylabel('True label')\n",
        "    plt.xlabel('Predicted label')"
      ],
      "metadata": {
        "id": "1nqwmpZojVMp"
      },
      "execution_count": 347,
      "outputs": []
    },
    {
      "cell_type": "code",
      "source": [
        "cnf_matrix = confusion_matrix(y_test,predicted)\n",
        "np.set_printoptions(precision=2)\n",
        "\n",
        "# Plot non-normalized confusion matrix\n",
        "plt.figure(figsize=(8,8))\n",
        "plot_confusion_matrix(cnf_matrix, classes=['EAP', 'HPL', 'MWS'],\n",
        "                      title='Confusion matrix, without normalization')\n",
        "plt.show()"
      ],
      "metadata": {
        "colab": {
          "base_uri": "https://localhost:8080/",
          "height": 585
        },
        "id": "qIXXRZqFmp_5",
        "outputId": "08ada111-2592-4890-9fe8-ab629f93f1bf"
      },
      "execution_count": 372,
      "outputs": [
        {
          "output_type": "display_data",
          "data": {
            "text/plain": [
              "<Figure size 576x576 with 2 Axes>"
            ],
            "image/png": "[encoded data removed]"
          },
          "metadata": {
            "needs_background": "light"
          }
        }
      ]
    },
    {
      "cell_type": "markdown",
      "source": [
        "# **Ensemble**"
      ],
      "metadata": {
        "id": "ocCuhKrkJQjN"
      }
    },
    {
      "cell_type": "code",
      "source": [
        "from sklearn.ensemble import VotingClassifier\n",
        "from sklearn.model_selection import cross_val_score\n",
        "eclf = VotingClassifier(\n",
        "    estimators=[('lr', clf1), ('rf', clf2), ('gnb', clf4)],\n",
        "    voting='hard')\n",
        "\n",
        "for clf, label in zip([clf1, clf2, clf4, eclf], ['RandomForest', 'SGDClassifier', 'naive Bayes', 'Ensemble']):\n",
        "  scores = cross_val_score(clf, X_train, y_train, scoring='accuracy', cv=5)\n",
        "  print(\"Accuracy: %0.2f (+/- %0.2f) [%s]\" % (scores.mean(), scores.std(), label))"
      ],
      "metadata": {
        "colab": {
          "base_uri": "https://localhost:8080/"
        },
        "id": "lIqX2SxkFe47",
        "outputId": "dbe50fd2-858e-4bd9-e602-ea4449e8e179"
      },
      "execution_count": 370,
      "outputs": [
        {
          "output_type": "stream",
          "name": "stdout",
          "text": [
            "Accuracy: 0.70 (+/- 0.01) [RandomForest]\n",
            "Accuracy: 0.80 (+/- 0.00) [SGDClassifier]\n",
            "Accuracy: 0.81 (+/- 0.01) [naive Bayes]\n",
            "Accuracy: 0.81 (+/- 0.01) [Ensemble]\n"
          ]
        }
      ]
    },
    {
      "cell_type": "markdown",
      "source": [
        "# **RNN**"
      ],
      "metadata": {
        "id": "pB8zTGLYLb_I"
      }
    },
    {
      "cell_type": "code",
      "source": [
        "import numpy as np # linear algebra\n",
        "import pandas as pd # data processing, CSV file I/O (e.g. pd.read_csv)\n",
        "from keras.preprocessing import sequence\n",
        "from keras.models import Sequential\n",
        "from keras.layers import Dense, Dropout, Embedding, SimpleRNN\n",
        "from keras.callbacks import TensorBoard\n",
        "from sklearn.feature_extraction.text import CountVectorizer\n",
        "from keras.preprocessing.text import Tokenizer\n",
        "from tensorflow.keras.preprocessing.sequence import pad_sequences\n",
        "from keras.models import Sequential\n",
        "from keras.layers import Dense, Embedding, LSTM, SpatialDropout1D\n",
        "from sklearn.model_selection import train_test_split\n",
        "from keras.utils.np_utils import to_categorical\n",
        "import re\n",
        "from keras.layers import LSTM, GRU\n"
      ],
      "metadata": {
        "id": "pfllslKgdFXf"
      },
      "execution_count": 15,
      "outputs": []
    },
    {
      "cell_type": "code",
      "source": [
        "data = pd.read_csv('/content/drive/MyDrive/RNN/author_data/ML-Test/author_data.csv')\n",
        "# Keeping only the neccessary columns\n",
        "\n",
        "data = data[['text','author']]\n",
        "data.head()"
      ],
      "metadata": {
        "colab": {
          "base_uri": "https://localhost:8080/",
          "height": 206
        },
        "id": "yQE2_PKKdtbi",
        "outputId": "a7bb8d65-2b6f-45c0-eae0-3dab9a957365"
      },
      "execution_count": 6,
      "outputs": [
        {
          "output_type": "execute_result",
          "data": {
            "text/plain": [
              "                                                text author\n",
              "0  This process, however, afforded me no means of...    EAP\n",
              "1  It never once occurred to me that the fumbling...    HPL\n",
              "2  In his left hand was a gold snuff box, from wh...    EAP\n",
              "3  How lovely is spring As we looked from Windsor...    MWS\n",
              "4  Finding nothing else, not even gold, the Super...    HPL"
            ],
            "text/html": [
              "\n",
              "  <div id=\"df-316cd1fa-37dd-461c-ab29-f8bb5f3ec5c5\">\n",
              "    <div class=\"colab-df-container\">\n",
              "      <div>\n",
              "<style scoped>\n",
              "    .dataframe tbody tr th:only-of-type {\n",
              "        vertical-align: middle;\n",
              "    }\n",
              "\n",
              "    .dataframe tbody tr th {\n",
              "        vertical-align: top;\n",
              "    }\n",
              "\n",
              "    .dataframe thead th {\n",
              "        text-align: right;\n",
              "    }\n",
              "</style>\n",
              "<table border=\"1\" class=\"dataframe\">\n",
              "  <thead>\n",
              "    <tr style=\"text-align: right;\">\n",
              "      <th></th>\n",
              "      <th>text</th>\n",
              "      <th>author</th>\n",
              "    </tr>\n",
              "  </thead>\n",
              "  <tbody>\n",
              "    <tr>\n",
              "      <th>0</th>\n",
              "      <td>This process, however, afforded me no means of...</td>\n",
              "      <td>EAP</td>\n",
              "    </tr>\n",
              "    <tr>\n",
              "      <th>1</th>\n",
              "      <td>It never once occurred to me that the fumbling...</td>\n",
              "      <td>HPL</td>\n",
              "    </tr>\n",
              "    <tr>\n",
              "      <th>2</th>\n",
              "      <td>In his left hand was a gold snuff box, from wh...</td>\n",
              "      <td>EAP</td>\n",
              "    </tr>\n",
              "    <tr>\n",
              "      <th>3</th>\n",
              "      <td>How lovely is spring As we looked from Windsor...</td>\n",
              "      <td>MWS</td>\n",
              "    </tr>\n",
              "    <tr>\n",
              "      <th>4</th>\n",
              "      <td>Finding nothing else, not even gold, the Super...</td>\n",
              "      <td>HPL</td>\n",
              "    </tr>\n",
              "  </tbody>\n",
              "</table>\n",
              "</div>\n",
              "      <button class=\"colab-df-convert\" onclick=\"convertToInteractive('df-316cd1fa-37dd-461c-ab29-f8bb5f3ec5c5')\"\n",
              "              title=\"Convert this dataframe to an interactive table.\"\n",
              "              style=\"display:none;\">\n",
              "        \n",
              "  <svg xmlns=\"http://www.w3.org/2000/svg\" height=\"24px\"viewBox=\"0 0 24 24\"\n",
              "       width=\"24px\">\n",
              "    <path d=\"M0 0h24v24H0V0z\" fill=\"none\"/>\n",
              "    <path d=\"M18.56 5.44l.94 2.06.94-2.06 2.06-.94-2.06-.94-.94-2.06-.94 2.06-2.06.94zm-11 1L8.5 8.5l.94-2.06 2.06-.94-2.06-.94L8.5 2.5l-.94 2.06-2.06.94zm10 10l.94 2.06.94-2.06 2.06-.94-2.06-.94-.94-2.06-.94 2.06-2.06.94z\"/><path d=\"M17.41 7.96l-1.37-1.37c-.4-.4-.92-.59-1.43-.59-.52 0-1.04.2-1.43.59L10.3 9.45l-7.72 7.72c-.78.78-.78 2.05 0 2.83L4 21.41c.39.39.9.59 1.41.59.51 0 1.02-.2 1.41-.59l7.78-7.78 2.81-2.81c.8-.78.8-2.07 0-2.86zM5.41 20L4 18.59l7.72-7.72 1.47 1.35L5.41 20z\"/>\n",
              "  </svg>\n",
              "      </button>\n",
              "      \n",
              "  <style>\n",
              "    .colab-df-container {\n",
              "      display:flex;\n",
              "      flex-wrap:wrap;\n",
              "      gap: 12px;\n",
              "    }\n",
              "\n",
              "    .colab-df-convert {\n",
              "      background-color: #E8F0FE;\n",
              "      border: none;\n",
              "      border-radius: 50%;\n",
              "      cursor: pointer;\n",
              "      display: none;\n",
              "      fill: #1967D2;\n",
              "      height: 32px;\n",
              "      padding: 0 0 0 0;\n",
              "      width: 32px;\n",
              "    }\n",
              "\n",
              "    .colab-df-convert:hover {\n",
              "      background-color: #E2EBFA;\n",
              "      box-shadow: 0px 1px 2px rgba(60, 64, 67, 0.3), 0px 1px 3px 1px rgba(60, 64, 67, 0.15);\n",
              "      fill: #174EA6;\n",
              "    }\n",
              "\n",
              "    [theme=dark] .colab-df-convert {\n",
              "      background-color: #3B4455;\n",
              "      fill: #D2E3FC;\n",
              "    }\n",
              "\n",
              "    [theme=dark] .colab-df-convert:hover {\n",
              "      background-color: #434B5C;\n",
              "      box-shadow: 0px 1px 3px 1px rgba(0, 0, 0, 0.15);\n",
              "      filter: drop-shadow(0px 1px 2px rgba(0, 0, 0, 0.3));\n",
              "      fill: #FFFFFF;\n",
              "    }\n",
              "  </style>\n",
              "\n",
              "      <script>\n",
              "        const buttonEl =\n",
              "          document.querySelector('#df-316cd1fa-37dd-461c-ab29-f8bb5f3ec5c5 button.colab-df-convert');\n",
              "        buttonEl.style.display =\n",
              "          google.colab.kernel.accessAllowed ? 'block' : 'none';\n",
              "\n",
              "        async function convertToInteractive(key) {\n",
              "          const element = document.querySelector('#df-316cd1fa-37dd-461c-ab29-f8bb5f3ec5c5');\n",
              "          const dataTable =\n",
              "            await google.colab.kernel.invokeFunction('convertToInteractive',\n",
              "                                                     [key], {});\n",
              "          if (!dataTable) return;\n",
              "\n",
              "          const docLinkHtml = 'Like what you see? Visit the ' +\n",
              "            '<a target=\"_blank\" href=https://colab.research.google.com/notebooks/data_table.ipynb>data table notebook</a>'\n",
              "            + ' to learn more about interactive tables.';\n",
              "          element.innerHTML = '';\n",
              "          dataTable['output_type'] = 'display_data';\n",
              "          await google.colab.output.renderOutput(dataTable, element);\n",
              "          const docLink = document.createElement('div');\n",
              "          docLink.innerHTML = docLinkHtml;\n",
              "          element.appendChild(docLink);\n",
              "        }\n",
              "      </script>\n",
              "    </div>\n",
              "  </div>\n",
              "  "
            ]
          },
          "metadata": {},
          "execution_count": 6
        }
      ]
    },
    {
      "cell_type": "markdown",
      "source": [
        "# **[Cleaning the Dataset]**"
      ],
      "metadata": {
        "id": "5MubSEYxJrY_"
      }
    },
    {
      "cell_type": "code",
      "source": [
        "data['text'] = data['text'].apply(lambda x: x.lower())\n",
        "data['text'] = data['text'].apply((lambda x: re.sub('[^a-zA-z0-9\\s]','',x)))\n",
        "data['text'] = data['text'].apply((lambda x: re.sub(r\"https?:\\/\\/t.co\\/[A-Za-z0-9]+\",'',x)))\n",
        "data['text'] = data['text'].apply((lambda x: re.sub('[^a-zA-z0-9\\s]','',x)))\n",
        "data['text'] = data['text'].apply((lambda x: re.sub('[<.*?>+]','', x)))\n"
      ],
      "metadata": {
        "id": "rviO1wHTecPj"
      },
      "execution_count": 7,
      "outputs": []
    },
    {
      "cell_type": "code",
      "source": [
        "data.head()"
      ],
      "metadata": {
        "colab": {
          "base_uri": "https://localhost:8080/",
          "height": 206
        },
        "id": "jX4dEcitejq5",
        "outputId": "2a115ccd-e970-4650-e42a-833c153d4211"
      },
      "execution_count": 26,
      "outputs": [
        {
          "output_type": "execute_result",
          "data": {
            "text/plain": [
              "                                                text author\n",
              "0  this process however afforded me no means of a...    EAP\n",
              "1  it never once occurred to me that the fumbling...    HPL\n",
              "2  in his left hand was a gold snuff box from whi...    EAP\n",
              "3  how lovely is spring as we looked from windsor...    MWS\n",
              "4  finding nothing else not even gold the superin...    HPL"
            ],
            "text/html": [
              "\n",
              "  <div id=\"df-a037b017-8bca-451e-8b34-7b77e364ff6c\">\n",
              "    <div class=\"colab-df-container\">\n",
              "      <div>\n",
              "<style scoped>\n",
              "    .dataframe tbody tr th:only-of-type {\n",
              "        vertical-align: middle;\n",
              "    }\n",
              "\n",
              "    .dataframe tbody tr th {\n",
              "        vertical-align: top;\n",
              "    }\n",
              "\n",
              "    .dataframe thead th {\n",
              "        text-align: right;\n",
              "    }\n",
              "</style>\n",
              "<table border=\"1\" class=\"dataframe\">\n",
              "  <thead>\n",
              "    <tr style=\"text-align: right;\">\n",
              "      <th></th>\n",
              "      <th>text</th>\n",
              "      <th>author</th>\n",
              "    </tr>\n",
              "  </thead>\n",
              "  <tbody>\n",
              "    <tr>\n",
              "      <th>0</th>\n",
              "      <td>this process however afforded me no means of a...</td>\n",
              "      <td>EAP</td>\n",
              "    </tr>\n",
              "    <tr>\n",
              "      <th>1</th>\n",
              "      <td>it never once occurred to me that the fumbling...</td>\n",
              "      <td>HPL</td>\n",
              "    </tr>\n",
              "    <tr>\n",
              "      <th>2</th>\n",
              "      <td>in his left hand was a gold snuff box from whi...</td>\n",
              "      <td>EAP</td>\n",
              "    </tr>\n",
              "    <tr>\n",
              "      <th>3</th>\n",
              "      <td>how lovely is spring as we looked from windsor...</td>\n",
              "      <td>MWS</td>\n",
              "    </tr>\n",
              "    <tr>\n",
              "      <th>4</th>\n",
              "      <td>finding nothing else not even gold the superin...</td>\n",
              "      <td>HPL</td>\n",
              "    </tr>\n",
              "  </tbody>\n",
              "</table>\n",
              "</div>\n",
              "      <button class=\"colab-df-convert\" onclick=\"convertToInteractive('df-a037b017-8bca-451e-8b34-7b77e364ff6c')\"\n",
              "              title=\"Convert this dataframe to an interactive table.\"\n",
              "              style=\"display:none;\">\n",
              "        \n",
              "  <svg xmlns=\"http://www.w3.org/2000/svg\" height=\"24px\"viewBox=\"0 0 24 24\"\n",
              "       width=\"24px\">\n",
              "    <path d=\"M0 0h24v24H0V0z\" fill=\"none\"/>\n",
              "    <path d=\"M18.56 5.44l.94 2.06.94-2.06 2.06-.94-2.06-.94-.94-2.06-.94 2.06-2.06.94zm-11 1L8.5 8.5l.94-2.06 2.06-.94-2.06-.94L8.5 2.5l-.94 2.06-2.06.94zm10 10l.94 2.06.94-2.06 2.06-.94-2.06-.94-.94-2.06-.94 2.06-2.06.94z\"/><path d=\"M17.41 7.96l-1.37-1.37c-.4-.4-.92-.59-1.43-.59-.52 0-1.04.2-1.43.59L10.3 9.45l-7.72 7.72c-.78.78-.78 2.05 0 2.83L4 21.41c.39.39.9.59 1.41.59.51 0 1.02-.2 1.41-.59l7.78-7.78 2.81-2.81c.8-.78.8-2.07 0-2.86zM5.41 20L4 18.59l7.72-7.72 1.47 1.35L5.41 20z\"/>\n",
              "  </svg>\n",
              "      </button>\n",
              "      \n",
              "  <style>\n",
              "    .colab-df-container {\n",
              "      display:flex;\n",
              "      flex-wrap:wrap;\n",
              "      gap: 12px;\n",
              "    }\n",
              "\n",
              "    .colab-df-convert {\n",
              "      background-color: #E8F0FE;\n",
              "      border: none;\n",
              "      border-radius: 50%;\n",
              "      cursor: pointer;\n",
              "      display: none;\n",
              "      fill: #1967D2;\n",
              "      height: 32px;\n",
              "      padding: 0 0 0 0;\n",
              "      width: 32px;\n",
              "    }\n",
              "\n",
              "    .colab-df-convert:hover {\n",
              "      background-color: #E2EBFA;\n",
              "      box-shadow: 0px 1px 2px rgba(60, 64, 67, 0.3), 0px 1px 3px 1px rgba(60, 64, 67, 0.15);\n",
              "      fill: #174EA6;\n",
              "    }\n",
              "\n",
              "    [theme=dark] .colab-df-convert {\n",
              "      background-color: #3B4455;\n",
              "      fill: #D2E3FC;\n",
              "    }\n",
              "\n",
              "    [theme=dark] .colab-df-convert:hover {\n",
              "      background-color: #434B5C;\n",
              "      box-shadow: 0px 1px 3px 1px rgba(0, 0, 0, 0.15);\n",
              "      filter: drop-shadow(0px 1px 2px rgba(0, 0, 0, 0.3));\n",
              "      fill: #FFFFFF;\n",
              "    }\n",
              "  </style>\n",
              "\n",
              "      <script>\n",
              "        const buttonEl =\n",
              "          document.querySelector('#df-a037b017-8bca-451e-8b34-7b77e364ff6c button.colab-df-convert');\n",
              "        buttonEl.style.display =\n",
              "          google.colab.kernel.accessAllowed ? 'block' : 'none';\n",
              "\n",
              "        async function convertToInteractive(key) {\n",
              "          const element = document.querySelector('#df-a037b017-8bca-451e-8b34-7b77e364ff6c');\n",
              "          const dataTable =\n",
              "            await google.colab.kernel.invokeFunction('convertToInteractive',\n",
              "                                                     [key], {});\n",
              "          if (!dataTable) return;\n",
              "\n",
              "          const docLinkHtml = 'Like what you see? Visit the ' +\n",
              "            '<a target=\"_blank\" href=https://colab.research.google.com/notebooks/data_table.ipynb>data table notebook</a>'\n",
              "            + ' to learn more about interactive tables.';\n",
              "          element.innerHTML = '';\n",
              "          dataTable['output_type'] = 'display_data';\n",
              "          await google.colab.output.renderOutput(dataTable, element);\n",
              "          const docLink = document.createElement('div');\n",
              "          docLink.innerHTML = docLinkHtml;\n",
              "          element.appendChild(docLink);\n",
              "        }\n",
              "      </script>\n",
              "    </div>\n",
              "  </div>\n",
              "  "
            ]
          },
          "metadata": {},
          "execution_count": 26
        }
      ]
    },
    {
      "cell_type": "code",
      "source": [
        "# I define the number of max features as 2000 and use Tokenizer to vectorize \n",
        "# and convert text into Sequences so the Network can deal with it as input.\n",
        "max_fatures = 10000\n",
        "tokenizer = Tokenizer(num_words=max_fatures, split=' ')\n",
        "tokenizer.fit_on_texts(data['text'].values)\n",
        "X = tokenizer.texts_to_sequences(data['text'].values)\n",
        "X = pad_sequences(X)\n",
        "Y = pd.get_dummies(data['author']).values"
      ],
      "metadata": {
        "id": "K0juMJWbfuG3"
      },
      "execution_count": 27,
      "outputs": []
    },
    {
      "cell_type": "code",
      "source": [
        "no_classes=3\n",
        "batch_size = 128\n",
        "dropout_rate = 0.4\n",
        "embedding_size=32\n",
        "hidden_layer_size = 256\n",
        "no_epochs = 15\n",
        "RNN_model = Sequential()\n",
        "# Add Embedding layer\n",
        "RNN_model.add(Embedding(max_fatures, embedding_size, input_length=X.shape[1]))\n",
        "RNN_model.add(Dropout(dropout_rate))\n",
        "# Add Simple RNN layer\n",
        "RNN_model.add(SimpleRNN(64, activation='relu', batch_input_shape=(batch_size, X.shape[1], 1)))\n",
        "\n",
        "# Add Dense Hidden Layer\n",
        "RNN_model.add(Dense(hidden_layer_size, activation='relu'))\n",
        "RNN_model.add(Dropout(dropout_rate))\n",
        "RNN_model.add(BatchNormalization())\n",
        "\n",
        "\n",
        "# Output Layer\n",
        "RNN_model.add(Dense(no_classes, activation='softmax'))\n",
        "RNN_model.compile(loss = 'categorical_crossentropy', optimizer='Adam', metrics = ['accuracy'])\n",
        "print(RNN_model.summary())"
      ],
      "metadata": {
        "colab": {
          "base_uri": "https://localhost:8080/"
        },
        "id": "rgXuXlEogqU5",
        "outputId": "a7c02dea-06b7-4fff-ec3c-23b045cdabec"
      },
      "execution_count": 28,
      "outputs": [
        {
          "output_type": "stream",
          "name": "stdout",
          "text": [
            "Model: \"sequential_7\"\n",
            "_________________________________________________________________\n",
            " Layer (type)                Output Shape              Param #   \n",
            "=================================================================\n",
            " embedding_7 (Embedding)     (None, 846, 32)           320000    \n",
            "                                                                 \n",
            " dropout_9 (Dropout)         (None, 846, 32)           0         \n",
            "                                                                 \n",
            " simple_rnn_1 (SimpleRNN)    (None, 64)                6208      \n",
            "                                                                 \n",
            " dense_13 (Dense)            (None, 256)               16640     \n",
            "                                                                 \n",
            " dropout_10 (Dropout)        (None, 256)               0         \n",
            "                                                                 \n",
            " batch_normalization_5 (Batc  (None, 256)              1024      \n",
            " hNormalization)                                                 \n",
            "                                                                 \n",
            " dense_14 (Dense)            (None, 3)                 771       \n",
            "                                                                 \n",
            "=================================================================\n",
            "Total params: 344,643\n",
            "Trainable params: 344,131\n",
            "Non-trainable params: 512\n",
            "_________________________________________________________________\n",
            "None\n"
          ]
        }
      ]
    },
    {
      "cell_type": "code",
      "source": [
        "X_train, X_test, Y_train, Y_test = train_test_split(X,Y, test_size = 0.02, random_state = 42)\n",
        "X_train, X_val, Y_train, Y_val = train_test_split(X_train,Y_train, test_size = 0.25, random_state = 42)\n",
        "print(X_train.shape,Y_train.shape)\n",
        "print(X_val.shape,Y_val.shape)\n",
        "print(X_test.shape,Y_test.shape)\n"
      ],
      "metadata": {
        "colab": {
          "base_uri": "https://localhost:8080/"
        },
        "id": "ZgeMTisL3ebU",
        "outputId": "55ca0a7d-5ef3-4747-e296-ca18c2a9ff7b"
      },
      "execution_count": 29,
      "outputs": [
        {
          "output_type": "stream",
          "name": "stdout",
          "text": [
            "(14390, 846) (14390, 3)\n",
            "(4797, 846) (4797, 3)\n",
            "(392, 846) (392, 3)\n"
          ]
        }
      ]
    },
    {
      "cell_type": "code",
      "source": [
        "import tensorflow as tf"
      ],
      "metadata": {
        "id": "huHwfelb7n3D"
      },
      "execution_count": 30,
      "outputs": []
    },
    {
      "cell_type": "code",
      "source": [
        "callback = tf.keras.callbacks.EarlyStopping(monitor='loss', patience=2)\n"
      ],
      "metadata": {
        "id": "Cno929TP7QyW"
      },
      "execution_count": 31,
      "outputs": []
    },
    {
      "cell_type": "code",
      "source": [
        "history = RNN_model.fit(X_train, Y_train, batch_size=batch_size, epochs=no_epochs, validation_data=(X_val, Y_val),callbacks=[callback])\n",
        "\n",
        "   "
      ],
      "metadata": {
        "colab": {
          "base_uri": "https://localhost:8080/"
        },
        "id": "PnOZkBsS7kSn",
        "outputId": "bf19bb49-a55f-4ae9-f26b-a3fc440dc321"
      },
      "execution_count": 103,
      "outputs": [
        {
          "output_type": "stream",
          "name": "stdout",
          "text": [
            "Epoch 1/15\n",
            "57/57 [==============================] - 44s 754ms/step - loss: 1.3577 - accuracy: 0.3493 - val_loss: 1.0886 - val_accuracy: 0.4030\n",
            "Epoch 2/15\n",
            "57/57 [==============================] - 43s 750ms/step - loss: 1.2047 - accuracy: 0.3777 - val_loss: 1.0874 - val_accuracy: 0.4184\n",
            "Epoch 3/15\n",
            "57/57 [==============================] - 43s 761ms/step - loss: 1.1110 - accuracy: 0.4197 - val_loss: 1.0907 - val_accuracy: 0.3677\n",
            "Epoch 4/15\n",
            "57/57 [==============================] - 42s 745ms/step - loss: 0.9771 - accuracy: 0.5273 - val_loss: 0.9851 - val_accuracy: 0.5689\n",
            "Epoch 5/15\n",
            "57/57 [==============================] - 48s 848ms/step - loss: 0.7288 - accuracy: 0.6858 - val_loss: 0.8734 - val_accuracy: 0.6581\n",
            "Epoch 6/15\n",
            "57/57 [==============================] - 42s 739ms/step - loss: 0.4896 - accuracy: 0.8130 - val_loss: 0.6782 - val_accuracy: 0.7536\n",
            "Epoch 7/15\n",
            "57/57 [==============================] - 43s 747ms/step - loss: 0.3606 - accuracy: 0.8646 - val_loss: 0.5510 - val_accuracy: 0.7753\n",
            "Epoch 8/15\n",
            "57/57 [==============================] - 43s 755ms/step - loss: 0.2977 - accuracy: 0.8909 - val_loss: 0.6133 - val_accuracy: 0.7659\n",
            "Epoch 9/15\n",
            "57/57 [==============================] - 45s 784ms/step - loss: 0.2254 - accuracy: 0.9181 - val_loss: 0.4931 - val_accuracy: 0.8109\n",
            "Epoch 10/15\n",
            "57/57 [==============================] - 42s 740ms/step - loss: 0.1924 - accuracy: 0.9295 - val_loss: 0.5134 - val_accuracy: 0.8078\n",
            "Epoch 11/15\n",
            "57/57 [==============================] - 47s 820ms/step - loss: 0.1756 - accuracy: 0.9377 - val_loss: 0.6644 - val_accuracy: 0.7953\n",
            "Epoch 12/15\n",
            "57/57 [==============================] - 42s 745ms/step - loss: 0.1561 - accuracy: 0.9452 - val_loss: 0.6292 - val_accuracy: 0.7951\n",
            "Epoch 13/15\n",
            "57/57 [==============================] - 45s 788ms/step - loss: 0.1297 - accuracy: 0.9555 - val_loss: 0.6694 - val_accuracy: 0.7947\n",
            "Epoch 14/15\n",
            "57/57 [==============================] - 43s 750ms/step - loss: 0.1470 - accuracy: 0.9462 - val_loss: 1.4567 - val_accuracy: 0.7230\n",
            "Epoch 15/15\n",
            "57/57 [==============================] - 43s 747ms/step - loss: 0.1350 - accuracy: 0.9521 - val_loss: 0.7614 - val_accuracy: 0.7942\n"
          ]
        }
      ]
    },
    {
      "cell_type": "code",
      "source": [
        "plt.title('Accuracy')\n",
        "plt.plot(history.history['accuracy'], label='train')\n",
        "plt.plot(history.history['val_accuracy'], label='test')\n",
        "plt.legend()\n",
        "plt.show();"
      ],
      "metadata": {
        "colab": {
          "base_uri": "https://localhost:8080/",
          "height": 281
        },
        "id": "EwJNZyfdUjcY",
        "outputId": "6fcad5aa-a104-4553-e228-5841f912ee6e"
      },
      "execution_count": 104,
      "outputs": [
        {
          "output_type": "display_data",
          "data": {
            "text/plain": [
              "<Figure size 432x288 with 1 Axes>"
            ],
            "image/png": "[encoded data removed]"
          },
          "metadata": {
            "needs_background": "light"
          }
        }
      ]
    },
    {
      "cell_type": "code",
      "source": [
        "epoch_count = range(1, len(history.history['loss']) + 1)\n",
        "plt.plot(epoch_count, history.history['loss'], 'r--')\n",
        "plt.plot(epoch_count, history.history['val_loss'], 'b-')\n",
        "plt.legend(['Training Loss', 'Validation Loss'])\n",
        "plt.xlabel('Epoch')\n",
        "plt.ylabel('Loss')\n",
        "plt.show()"
      ],
      "metadata": {
        "colab": {
          "base_uri": "https://localhost:8080/",
          "height": 279
        },
        "id": "K8eL9j2DZojW",
        "outputId": "6be76557-a22a-4220-bee3-b452f362fb4f"
      },
      "execution_count": 106,
      "outputs": [
        {
          "output_type": "display_data",
          "data": {
            "text/plain": [
              "<Figure size 432x288 with 1 Axes>"
            ],
            "image/png": "[encoded data removed]"
          },
          "metadata": {
            "needs_background": "light"
          }
        }
      ]
    },
    {
      "cell_type": "markdown",
      "source": [
        "# **LSTM**"
      ],
      "metadata": {
        "id": "typwbqWOgNnS"
      }
    },
    {
      "cell_type": "code",
      "source": [
        "no_classes=3\n",
        "batch_size = 128\n",
        "dropout_rate = 0.4\n",
        "embedding_size=32\n",
        "hidden_layer_size = 256\n",
        "no_epochs = 15"
      ],
      "metadata": {
        "id": "NH_QXFnzimDB"
      },
      "execution_count": 32,
      "outputs": []
    },
    {
      "cell_type": "code",
      "source": [
        "embed_dim = 128\n",
        "lstm_out = 196\n",
        "\n",
        "model = Sequential()\n",
        "model.add(Embedding(300, embed_dim,input_length = X.shape[1]))\n",
        "model.add(SpatialDropout1D(0.4))\n",
        "model.add(LSTM(lstm_out, dropout=0.2, recurrent_dropout=0.2))\n",
        "\n",
        "# Add Dense Hidden Layer\n",
        "model.add(Dense(256, activation='relu'))\n",
        "model.add(Dropout(0.4))\n",
        "model.add(BatchNormalization())\n",
        "\n",
        "model.add(Dense(3,activation='softmax'))\n",
        "model.compile(loss = 'categorical_crossentropy', optimizer='adam',metrics = ['accuracy'])\n",
        "print(model.summary())\n",
        "history = model.fit(X_train, Y_train, batch_size=128, epochs=16, validation_data=(X_val, Y_val),callbacks=[callback])\n"
      ],
      "metadata": {
        "id": "5oAb-pFAIsXX"
      },
      "execution_count": null,
      "outputs": []
    },
    {
      "cell_type": "markdown",
      "source": [
        "# **GRU**"
      ],
      "metadata": {
        "id": "jyJHeUYy-xIn"
      }
    },
    {
      "cell_type": "code",
      "source": [
        "embed_dim = 128\n",
        "\n",
        "model_GRU = Sequential()\n",
        "model_GRU.add(Embedding(300, embed_dim,input_length = X.shape[1]))\n",
        "model_GRU.add(SpatialDropout1D(0.3))\n",
        "model_GRU.add(GRU(300, dropout=0.3, recurrent_dropout=0.3, return_sequences=True))\n",
        "model_GRU.add(GRU(300, dropout=0.3, recurrent_dropout=0.3))\n",
        "\n",
        "model_GRU.add(Dense(256, activation='relu'))\n",
        "model_GRU.add(Dropout(0.4))\n",
        "\n",
        "model_GRU.add(Dense(128, activation='relu'))\n",
        "model_GRU.add(Dropout(0.4))\n",
        "model_GRU.add(BatchNormalization())\n",
        "\n",
        "\n",
        "model_GRU.add(Dense(3,activation='softmax'))\n",
        "model_GRU.compile(loss = 'categorical_crossentropy', optimizer='adam',metrics = ['accuracy'])\n",
        "print(model_GRU.summary())\n",
        "history = model_GRU.fit(X_train, Y_train, batch_size=128, epochs=16, validation_data=(X_val, Y_val),callbacks=[callback])\n"
      ],
      "metadata": {
        "colab": {
          "base_uri": "https://localhost:8080/"
        },
        "id": "pwE7t5WL-rMt",
        "outputId": "c58fec53-6f6c-40a8-ffdb-5aecf985c509"
      },
      "execution_count": 21,
      "outputs": [
        {
          "output_type": "stream",
          "name": "stdout",
          "text": [
            "Model: \"sequential_4\"\n",
            "_________________________________________________________________\n",
            " Layer (type)                Output Shape              Param #   \n",
            "=================================================================\n",
            " embedding_4 (Embedding)     (None, 846, 128)          38400     \n",
            "                                                                 \n",
            " spatial_dropout1d_4 (Spatia  (None, 846, 128)         0         \n",
            " lDropout1D)                                                     \n",
            "                                                                 \n",
            " gru_6 (GRU)                 (None, 846, 300)          387000    \n",
            "                                                                 \n",
            " gru_7 (GRU)                 (None, 300)               541800    \n",
            "                                                                 \n",
            " dense_6 (Dense)             (None, 256)               77056     \n",
            "                                                                 \n",
            " dropout_4 (Dropout)         (None, 256)               0         \n",
            "                                                                 \n",
            " dense_7 (Dense)             (None, 128)               32896     \n",
            "                                                                 \n",
            " dropout_5 (Dropout)         (None, 128)               0         \n",
            "                                                                 \n",
            " batch_normalization_2 (Batc  (None, 128)              512       \n",
            " hNormalization)                                                 \n",
            "                                                                 \n",
            " dense_8 (Dense)             (None, 3)                 387       \n",
            "                                                                 \n",
            "=================================================================\n",
            "Total params: 1,078,051\n",
            "Trainable params: 1,077,795\n",
            "Non-trainable params: 256\n",
            "_________________________________________________________________\n",
            "None\n"
          ]
        }
      ]
    }
  ]
}